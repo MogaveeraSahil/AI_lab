{
 "cells": [
  {
   "cell_type": "code",
   "execution_count": 1,
   "metadata": {},
   "outputs": [
    {
     "name": "stdout",
     "output_type": "stream",
     "text": [
      "New clause generated: Parent(Leela,Oshin)\n",
      "New clause generated: !Parent(Leela,Oshin) V Older(Leela,Oshin)\n",
      "New clause generated: !Mother(Leela,Oshin) V !Alive(Leela) V Older(Leela,Oshin)\n",
      "New clause generated: !Parent(Leela,Oshin) V !Alive(Leela)\n",
      "New clause generated: !Alive(Leela) V Older(Leela,Oshin)\n",
      "New clause generated: !Mother(Leela,Oshin) V Older(Leela,Oshin)\n",
      "New clause generated: !Parent(Leela,Oshin)\n",
      "New clause generated: !Mother(Leela,Oshin) V !Alive(Leela)\n",
      "New clause generated: Older(Leela,Oshin)\n",
      "New clause generated: !Alive(Leela)\n",
      "New clause generated: !Mother(Leela,Oshin)\n",
      "Empty Clause generated. Proof Successful!\n",
      "The goal 'Older(Leela,Oshin)' is proven.\n"
     ]
    }
   ],
   "source": [
    "kb = [\n",
    "    \"Mother(Leela,Oshin)\",\n",
    "    \"Alive(Leela)\",\n",
    "    \"!Mother(Leela,Oshin) V Parent(Leela,Oshin)\",\n",
    "    \"!Parent(Leela,Oshin) V !Alive(Leela) V Older(Leela,Oshin)\"\n",
    "]\n",
    "\n",
    "goal = \"Older(Leela,Oshin)\"\n",
    "\n",
    "def resolve(clause1, clause2):\n",
    "    literals1 = clause1.split(\" V \")\n",
    "    literals2 = clause2.split(\" V \")\n",
    "    \n",
    "    for literal1 in literals1:\n",
    "        for literal2 in literals2:\n",
    "            if literal1[0] == \"!\" and literal1[1:] == literal2:\n",
    "                new_clause = []\n",
    "                for lit in literals1:\n",
    "                    if lit != literal1:\n",
    "                        new_clause.append(lit)\n",
    "                for lit in literals2:\n",
    "                    if lit != literal2:\n",
    "                        new_clause.append(lit)\n",
    "                return \" V \".join(new_clause) if new_clause else \"\"\n",
    "            \n",
    "            elif literal1 == literal2[1:] and literal2[0] == \"!\":\n",
    "                new_clause = []\n",
    "                for lit in literals1:\n",
    "                    if lit != literal1:\n",
    "                        new_clause.append(lit)\n",
    "                for lit in literals2:\n",
    "                    if lit != literal2:\n",
    "                        new_clause.append(lit)\n",
    "                return \" V \".join(new_clause) if new_clause else \"\"\n",
    "    return None\n",
    "\n",
    "def proof_by_resolution(kb, goal):\n",
    "    negated_goal = \"!\" + goal\n",
    "    kb.append(negated_goal)\n",
    "    new_clauses = []\n",
    "\n",
    "    while True:\n",
    "        for i in range(len(kb)):\n",
    "            for j in range(i + 1, len(kb)):\n",
    "                resolvent = resolve(kb[i], kb[j])\n",
    "                if resolvent == \"\":\n",
    "                    print(\"Empty Clause generated. Proof Successful!\")\n",
    "                    return True\n",
    "                if resolvent and resolvent not in kb and resolvent not in new_clauses:\n",
    "                    print(\"New clause generated:\", resolvent)\n",
    "                    new_clauses.append(resolvent)\n",
    "        \n",
    "        if not new_clauses:\n",
    "            print(\"No more new clauses. Proof Failed.\")\n",
    "            return False\n",
    "        \n",
    "        kb.extend(new_clauses)\n",
    "        new_clauses = []\n",
    "\n",
    "if __name__ == \"__main__\":\n",
    "    if proof_by_resolution(kb, goal):\n",
    "        print(f\"The goal '{goal}' is proven.\")\n",
    "    else:\n",
    "        print(f\"The goal '{goal}' could not be proven.\")"
   ]
  }
 ],
 "metadata": {
  "kernelspec": {
   "display_name": "Python 3",
   "language": "python",
   "name": "python3"
  },
  "language_info": {
   "codemirror_mode": {
    "name": "ipython",
    "version": 3
   },
   "file_extension": ".py",
   "mimetype": "text/x-python",
   "name": "python",
   "nbconvert_exporter": "python",
   "pygments_lexer": "ipython3",
   "version": "3.12.0"
  }
 },
 "nbformat": 4,
 "nbformat_minor": 2
}
