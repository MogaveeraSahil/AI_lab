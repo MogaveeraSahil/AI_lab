{
 "cells": [
  {
   "cell_type": "code",
   "execution_count": 2,
   "id": "958107c4-3511-4637-a0bc-46f49c900922",
   "metadata": {},
   "outputs": [
    {
     "name": "stdout",
     "output_type": "stream",
     "text": [
      "1 is the start index\n",
      "0 is dirty and 1 is clean\n",
      "[0, 1] is the initial state of room\n",
      "Moved to Room 0\n",
      "[0, 1] is current state of rooms\n",
      "Cleaned Room 0\n",
      "Moved to Room 1\n",
      "[1, 1] is current state of rooms\n",
      "Rooms are clean\n"
     ]
    }
   ],
   "source": [
    "import random\n",
    "l=[random.choice([0,1]),random.choice([0,1])]\n",
    "def check(i):\n",
    "    if l[i]==0:\n",
    "        l[i]=1\n",
    "        print(f\"Cleaned Room {i}\")\n",
    "    print(f\"Moved to Room {(i+1)%2}\")\n",
    "    return (i+1)%2\n",
    "i=random.choice([0,1])\n",
    "print(f\"{i} is the start index\")\n",
    "print(\"0 is dirty and 1 is clean\")\n",
    "print(f\"{l} is the initial state of room\")\n",
    "while sum(l)!=2:\n",
    "    i=check(i)\n",
    "    if l[(i+1)%2]==1:\n",
    "        l[(i+1)%2]=random.choice([0,1])\n",
    "        if l[(i+1)%2]==0:\n",
    "            print(f\"Room {(i+1)%2} got dirty\")\n",
    "    print(f\"{l} is current state of rooms\")\n",
    "print(\"Rooms are clean\")"
   ]
  }
 ],
 "metadata": {
  "kernelspec": {
   "display_name": "Python 3 (ipykernel)",
   "language": "python",
   "name": "python3"
  },
  "language_info": {
   "codemirror_mode": {
    "name": "ipython",
    "version": 3
   },
   "file_extension": ".py",
   "mimetype": "text/x-python",
   "name": "python",
   "nbconvert_exporter": "python",
   "pygments_lexer": "ipython3",
   "version": "3.12.0"
  }
 },
 "nbformat": 4,
 "nbformat_minor": 5
}
