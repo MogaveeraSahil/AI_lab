{
 "cells": [
  {
   "cell_type": "code",
   "execution_count": 1,
   "metadata": {},
   "outputs": [
    {
     "name": "stdout",
     "output_type": "stream",
     "text": [
      "KB entails R\n"
     ]
    }
   ],
   "source": [
    "import random\n",
    "import itertools\n",
    "import math\n",
    "\n",
    "def eval_formula(formula, assignment):\n",
    "    formula = formula.replace('and', 'and').replace('or', 'or').replace('not', 'not')\n",
    "    formula = formula.replace('→', ' or not ')  # Implication A → B is equivalent to (not A or B)\n",
    "    formula = formula.replace('↔', '==')  # Equivalence A ↔ B is equivalent to (A == B)\n",
    "\n",
    "    env = {var: value for var, value in zip(assignment.keys(), assignment.values())}\n",
    "\n",
    "    return eval(formula, {}, env)\n",
    "\n",
    "def generate_initial_state(variables):\n",
    "    return {var: random.choice([True, False]) for var in variables}\n",
    "\n",
    "def entails(KB, alpha):\n",
    "    # Find all unique variables in KB and alpha\n",
    "    variables = set(''.join([ch for ch in ''.join(KB + [alpha]) if ch.isalpha()]))\n",
    "\n",
    "    # Generate all possible truth assignments for the variables\n",
    "    truth_assignments = list(itertools.product([True, False], repeat=len(variables)))\n",
    "    var_list = list(variables)\n",
    "\n",
    "    for assignment in truth_assignments:\n",
    "        # Map the truth assignment to each variable\n",
    "        assignment_dict = dict(zip(var_list, assignment))\n",
    "\n",
    "        # Combine all KB formulas with AND and evaluate\n",
    "        kb_combined = all(eval_formula(formula, assignment_dict) for formula in KB)\n",
    "        alpha_true = eval_formula(alpha, assignment_dict)\n",
    "\n",
    "        # If KB is true and alpha is false for any assignment, KB does not entail alpha\n",
    "        if kb_combined and not alpha_true:\n",
    "            return False\n",
    "\n",
    "    # If we reach here, it means KB entails alpha\n",
    "    return True\n",
    "\n",
    "# Example Usage →\n",
    "KB = [\"not Q or P\", \"not P or (not Q)\", \"Q or R\"]\n",
    "alpha = \"R\"\n",
    "\n",
    "# Check if KB entails alpha\n",
    "if entails(KB, alpha):\n",
    "    print(\"KB entails R\")\n",
    "else:\n",
    "    print(\"KB does not entail R\")"
   ]
  }
 ],
 "metadata": {
  "kernelspec": {
   "display_name": "Python 3",
   "language": "python",
   "name": "python3"
  },
  "language_info": {
   "codemirror_mode": {
    "name": "ipython",
    "version": 3
   },
   "file_extension": ".py",
   "mimetype": "text/x-python",
   "name": "python",
   "nbconvert_exporter": "python",
   "pygments_lexer": "ipython3",
   "version": "3.12.0"
  }
 },
 "nbformat": 4,
 "nbformat_minor": 2
}
